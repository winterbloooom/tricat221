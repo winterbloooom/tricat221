{
 "cells": [
  {
   "cell_type": "code",
   "execution_count": 3,
   "metadata": {},
   "outputs": [],
   "source": [
    "import numpy as np\n",
    "import math"
   ]
  },
  {
   "cell_type": "code",
   "execution_count": 30,
   "metadata": {},
   "outputs": [],
   "source": [
    "def rearrange_angle(input_angle):\n",
    "    if input_angle >= 180:  # 왼쪽으로 회전이 더 이득\n",
    "        output_angle = -180 + abs(input_angle) % 180\n",
    "    elif input_angle <= -180:\n",
    "        output_angle = 180 - abs(input_angle) % 180\n",
    "    else:\n",
    "        output_angle = input_angle\n",
    "    return output_angle"
   ]
  },
  {
   "cell_type": "code",
   "execution_count": 65,
   "metadata": {},
   "outputs": [],
   "source": [
    "boat = [-3, -3]\n",
    "goal = [6, -11]"
   ]
  },
  {
   "cell_type": "code",
   "execution_count": 49,
   "metadata": {},
   "outputs": [
    {
     "name": "stdout",
     "output_type": "stream",
     "text": [
      "psi -135.0\n"
     ]
    }
   ],
   "source": [
    "psi = math.degrees(math.atan2(boat[1], boat[0]))\n",
    "print(\"psi\", psi)"
   ]
  },
  {
   "cell_type": "code",
   "execution_count": 66,
   "metadata": {},
   "outputs": [
    {
     "name": "stdout",
     "output_type": "stream",
     "text": [
      "goal_temp -28.61045966596521\n"
     ]
    }
   ],
   "source": [
    "goal_temp = math.degrees(math.atan2(goal[1], goal[0]))\n",
    "print(\"goal_temp\", -goal_temp-90)"
   ]
  },
  {
   "cell_type": "code",
   "execution_count": 67,
   "metadata": {},
   "outputs": [
    {
     "name": "stdout",
     "output_type": "stream",
     "text": [
      "psi_desire -41.6335393365702\n"
     ]
    }
   ],
   "source": [
    "psi_desire = math.degrees(math.atan2(goal[1] - boat[1], goal[0] - boat[0]))\n",
    "print(\"psi_desire\", psi_desire)"
   ]
  },
  {
   "cell_type": "code",
   "execution_count": 68,
   "metadata": {},
   "outputs": [
    {
     "name": "stdout",
     "output_type": "stream",
     "text": [
      "error_angle 93.36646066342979\n",
      "after_rearrange 93.36646066342979\n"
     ]
    }
   ],
   "source": [
    "error_angle = psi_desire - psi\n",
    "print(\"error_angle\", error_angle)\n",
    "print(\"after_rearrange\", rearrange_angle(error_angle))"
   ]
  }
 ],
 "metadata": {
  "kernelspec": {
   "display_name": "Python 2.7.17 64-bit",
   "language": "python",
   "name": "python3"
  },
  "language_info": {
   "codemirror_mode": {
    "name": "ipython",
    "version": 3
   },
   "file_extension": ".py",
   "mimetype": "text/x-python",
   "name": "python",
   "nbconvert_exporter": "python",
   "pygments_lexer": "ipython3",
   "version": "2.7.17"
  },
  "orig_nbformat": 4,
  "vscode": {
   "interpreter": {
    "hash": "767d51c1340bd893661ea55ea3124f6de3c7a262a8b4abca0554b478b1e2ff90"
   }
  }
 },
 "nbformat": 4,
 "nbformat_minor": 2
}
